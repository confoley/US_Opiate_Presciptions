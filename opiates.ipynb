{
 "cells": [
  {
   "cell_type": "markdown",
   "metadata": {},
   "source": [
    "# Accidental Opiate Overdose Deaths\n",
    "### Looking at Features of Prescribers\n",
    "\n",
    "This [Kaggle dataset](https://www.kaggle.com/apryor6/us-opiate-prescriptions/home) contains information on prescription opiate overdoses by prescriber. From the Kaggle description:\n",
    ">This dataset contains summaries of prescription records for 250 common opioid and non-opioid drugs written by 25,000 unique licensed medical professionals in 2014 in the United States for citizens covered under Class D Medicare as well as some metadata about the doctors themselves. \n",
    "\n",
    "Due to the large and often binarized nature of this dataset, I decided to explore it with some supervised and unsupervised modeling techniques. I first looked at this dataset using a Random Forest Classifier to predict the boolean value for whether or not the prescriber prescribed opiate drugs more than 10 times in the year. "
   ]
  },
  {
   "cell_type": "code",
   "execution_count": 1,
   "metadata": {},
   "outputs": [],
   "source": [
    "import pandas as pd\n",
    "import numpy as np\n",
    "import matplotlib\n",
    "import matplotlib.pyplot as plt\n",
    "\n",
    "from sklearn.pipeline import Pipeline\n",
    "from sklearn.linear_model import LogisticRegression, SGDClassifier, PassiveAggressiveClassifier\n",
    "from sklearn.ensemble import RandomForestClassifier, BaggingClassifier\n",
    "from imblearn.ensemble import BalancedBaggingClassifier \n",
    "from sklearn.cluster import KMeans, k_means, DBSCAN\n",
    "from sklearn.preprocessing import MinMaxScaler\n",
    "from sklearn.model_selection import train_test_split, GridSearchCV\n",
    "from sklearn.metrics import classification_report, confusion_matrix, roc_curve, auc, precision_recall_curve\n",
    "\n",
    "%matplotlib inline"
   ]
  },
  {
   "cell_type": "code",
   "execution_count": 2,
   "metadata": {},
   "outputs": [],
   "source": [
    "opiods = pd.read_csv('./opioids.csv')\n",
    "overdoses = pd.read_csv('./overdoses.csv')\n",
    "prescribers = pd.read_csv('./prescriber-info.csv')"
   ]
  },
  {
   "cell_type": "code",
   "execution_count": 3,
   "metadata": {},
   "outputs": [
    {
     "data": {
      "text/plain": [
       "(25000, 256)"
      ]
     },
     "execution_count": 3,
     "metadata": {},
     "output_type": "execute_result"
    }
   ],
   "source": [
    "prescribers.shape"
   ]
  },
  {
   "cell_type": "code",
   "execution_count": 4,
   "metadata": {},
   "outputs": [],
   "source": [
    "prescribers.fillna('Unspecified', inplace=True) # Specialty column missing data"
   ]
  },
  {
   "cell_type": "code",
   "execution_count": 5,
   "metadata": {},
   "outputs": [
    {
     "data": {
      "text/html": [
       "<div>\n",
       "<style scoped>\n",
       "    .dataframe tbody tr th:only-of-type {\n",
       "        vertical-align: middle;\n",
       "    }\n",
       "\n",
       "    .dataframe tbody tr th {\n",
       "        vertical-align: top;\n",
       "    }\n",
       "\n",
       "    .dataframe thead th {\n",
       "        text-align: right;\n",
       "    }\n",
       "</style>\n",
       "<table border=\"1\" class=\"dataframe\">\n",
       "  <thead>\n",
       "    <tr style=\"text-align: right;\">\n",
       "      <th></th>\n",
       "      <th>NPI</th>\n",
       "      <th>Gender</th>\n",
       "      <th>State</th>\n",
       "      <th>Credentials</th>\n",
       "      <th>Specialty</th>\n",
       "      <th>ABILIFY</th>\n",
       "      <th>ACETAMINOPHEN.CODEINE</th>\n",
       "      <th>ACYCLOVIR</th>\n",
       "      <th>ADVAIR.DISKUS</th>\n",
       "      <th>AGGRENOX</th>\n",
       "      <th>...</th>\n",
       "      <th>VERAPAMIL.ER</th>\n",
       "      <th>VESICARE</th>\n",
       "      <th>VOLTAREN</th>\n",
       "      <th>VYTORIN</th>\n",
       "      <th>WARFARIN.SODIUM</th>\n",
       "      <th>XARELTO</th>\n",
       "      <th>ZETIA</th>\n",
       "      <th>ZIPRASIDONE.HCL</th>\n",
       "      <th>ZOLPIDEM.TARTRATE</th>\n",
       "      <th>Opioid.Prescriber</th>\n",
       "    </tr>\n",
       "  </thead>\n",
       "  <tbody>\n",
       "    <tr>\n",
       "      <th>0</th>\n",
       "      <td>1710982582</td>\n",
       "      <td>M</td>\n",
       "      <td>TX</td>\n",
       "      <td>DDS</td>\n",
       "      <td>Dentist</td>\n",
       "      <td>0</td>\n",
       "      <td>0</td>\n",
       "      <td>0</td>\n",
       "      <td>0</td>\n",
       "      <td>0</td>\n",
       "      <td>...</td>\n",
       "      <td>0</td>\n",
       "      <td>0</td>\n",
       "      <td>0</td>\n",
       "      <td>0</td>\n",
       "      <td>0</td>\n",
       "      <td>0</td>\n",
       "      <td>0</td>\n",
       "      <td>0</td>\n",
       "      <td>0</td>\n",
       "      <td>1</td>\n",
       "    </tr>\n",
       "    <tr>\n",
       "      <th>1</th>\n",
       "      <td>1245278100</td>\n",
       "      <td>F</td>\n",
       "      <td>AL</td>\n",
       "      <td>MD</td>\n",
       "      <td>General Surgery</td>\n",
       "      <td>0</td>\n",
       "      <td>0</td>\n",
       "      <td>0</td>\n",
       "      <td>0</td>\n",
       "      <td>0</td>\n",
       "      <td>...</td>\n",
       "      <td>0</td>\n",
       "      <td>0</td>\n",
       "      <td>0</td>\n",
       "      <td>0</td>\n",
       "      <td>0</td>\n",
       "      <td>0</td>\n",
       "      <td>0</td>\n",
       "      <td>0</td>\n",
       "      <td>35</td>\n",
       "      <td>1</td>\n",
       "    </tr>\n",
       "    <tr>\n",
       "      <th>2</th>\n",
       "      <td>1427182161</td>\n",
       "      <td>F</td>\n",
       "      <td>NY</td>\n",
       "      <td>M.D.</td>\n",
       "      <td>General Practice</td>\n",
       "      <td>0</td>\n",
       "      <td>0</td>\n",
       "      <td>0</td>\n",
       "      <td>0</td>\n",
       "      <td>0</td>\n",
       "      <td>...</td>\n",
       "      <td>0</td>\n",
       "      <td>0</td>\n",
       "      <td>0</td>\n",
       "      <td>0</td>\n",
       "      <td>0</td>\n",
       "      <td>0</td>\n",
       "      <td>0</td>\n",
       "      <td>0</td>\n",
       "      <td>25</td>\n",
       "      <td>0</td>\n",
       "    </tr>\n",
       "    <tr>\n",
       "      <th>3</th>\n",
       "      <td>1669567541</td>\n",
       "      <td>M</td>\n",
       "      <td>AZ</td>\n",
       "      <td>MD</td>\n",
       "      <td>Internal Medicine</td>\n",
       "      <td>0</td>\n",
       "      <td>43</td>\n",
       "      <td>0</td>\n",
       "      <td>0</td>\n",
       "      <td>0</td>\n",
       "      <td>...</td>\n",
       "      <td>0</td>\n",
       "      <td>0</td>\n",
       "      <td>0</td>\n",
       "      <td>0</td>\n",
       "      <td>0</td>\n",
       "      <td>0</td>\n",
       "      <td>0</td>\n",
       "      <td>0</td>\n",
       "      <td>0</td>\n",
       "      <td>1</td>\n",
       "    </tr>\n",
       "    <tr>\n",
       "      <th>4</th>\n",
       "      <td>1679650949</td>\n",
       "      <td>M</td>\n",
       "      <td>NV</td>\n",
       "      <td>M.D.</td>\n",
       "      <td>Hematology/Oncology</td>\n",
       "      <td>0</td>\n",
       "      <td>0</td>\n",
       "      <td>0</td>\n",
       "      <td>0</td>\n",
       "      <td>0</td>\n",
       "      <td>...</td>\n",
       "      <td>0</td>\n",
       "      <td>0</td>\n",
       "      <td>0</td>\n",
       "      <td>0</td>\n",
       "      <td>17</td>\n",
       "      <td>28</td>\n",
       "      <td>0</td>\n",
       "      <td>0</td>\n",
       "      <td>0</td>\n",
       "      <td>1</td>\n",
       "    </tr>\n",
       "  </tbody>\n",
       "</table>\n",
       "<p>5 rows × 256 columns</p>\n",
       "</div>"
      ],
      "text/plain": [
       "          NPI Gender State Credentials            Specialty  ABILIFY  \\\n",
       "0  1710982582      M    TX         DDS              Dentist        0   \n",
       "1  1245278100      F    AL          MD      General Surgery        0   \n",
       "2  1427182161      F    NY        M.D.     General Practice        0   \n",
       "3  1669567541      M    AZ          MD    Internal Medicine        0   \n",
       "4  1679650949      M    NV        M.D.  Hematology/Oncology        0   \n",
       "\n",
       "   ACETAMINOPHEN.CODEINE  ACYCLOVIR  ADVAIR.DISKUS  AGGRENOX  \\\n",
       "0                      0          0              0         0   \n",
       "1                      0          0              0         0   \n",
       "2                      0          0              0         0   \n",
       "3                     43          0              0         0   \n",
       "4                      0          0              0         0   \n",
       "\n",
       "         ...          VERAPAMIL.ER  VESICARE  VOLTAREN  VYTORIN  \\\n",
       "0        ...                     0         0         0        0   \n",
       "1        ...                     0         0         0        0   \n",
       "2        ...                     0         0         0        0   \n",
       "3        ...                     0         0         0        0   \n",
       "4        ...                     0         0         0        0   \n",
       "\n",
       "   WARFARIN.SODIUM  XARELTO  ZETIA  ZIPRASIDONE.HCL  ZOLPIDEM.TARTRATE  \\\n",
       "0                0        0      0                0                  0   \n",
       "1                0        0      0                0                 35   \n",
       "2                0        0      0                0                 25   \n",
       "3                0        0      0                0                  0   \n",
       "4               17       28      0                0                  0   \n",
       "\n",
       "   Opioid.Prescriber  \n",
       "0                  1  \n",
       "1                  1  \n",
       "2                  0  \n",
       "3                  1  \n",
       "4                  1  \n",
       "\n",
       "[5 rows x 256 columns]"
      ]
     },
     "execution_count": 5,
     "metadata": {},
     "output_type": "execute_result"
    }
   ],
   "source": [
    "prescribers.head()"
   ]
  },
  {
   "cell_type": "code",
   "execution_count": 6,
   "metadata": {},
   "outputs": [],
   "source": [
    "specialty_dummies = pd.get_dummies(prescribers['Specialty'])\n",
    "state_dummies = pd.get_dummies(prescribers['State'])"
   ]
  },
  {
   "cell_type": "code",
   "execution_count": 7,
   "metadata": {},
   "outputs": [
    {
     "data": {
      "text/plain": [
       "1    14688\n",
       "0    10312\n",
       "Name: Opioid.Prescriber, dtype: int64"
      ]
     },
     "execution_count": 7,
     "metadata": {},
     "output_type": "execute_result"
    }
   ],
   "source": [
    "prescribers['Opioid.Prescriber'].value_counts()"
   ]
  },
  {
   "cell_type": "code",
   "execution_count": 8,
   "metadata": {},
   "outputs": [],
   "source": [
    "prescribers['Gender'] = prescribers['Gender'].map({'M': 1, 'F': 0})"
   ]
  },
  {
   "cell_type": "code",
   "execution_count": 9,
   "metadata": {},
   "outputs": [],
   "source": [
    "X = pd.concat([prescribers.drop(['State','Specialty','Credentials','NPI','Opioid.Prescriber'], axis=1),\n",
    "           specialty_dummies, state_dummies], axis=1)\n",
    "y = prescribers['Opioid.Prescriber']"
   ]
  },
  {
   "cell_type": "code",
   "execution_count": 10,
   "metadata": {},
   "outputs": [
    {
     "data": {
      "text/plain": [
       "int64    251\n",
       "uint8    166\n",
       "dtype: int64"
      ]
     },
     "execution_count": 10,
     "metadata": {},
     "output_type": "execute_result"
    }
   ],
   "source": [
    "X.dtypes.value_counts()"
   ]
  },
  {
   "cell_type": "code",
   "execution_count": 11,
   "metadata": {},
   "outputs": [
    {
     "data": {
      "text/plain": [
       "1    14688\n",
       "0    10312\n",
       "Name: Opioid.Prescriber, dtype: int64"
      ]
     },
     "execution_count": 11,
     "metadata": {},
     "output_type": "execute_result"
    }
   ],
   "source": [
    "y.value_counts()"
   ]
  },
  {
   "cell_type": "code",
   "execution_count": 12,
   "metadata": {},
   "outputs": [],
   "source": [
    "X_train, X_test, y_train, y_test = train_test_split(X, y, random_state=24, stratify=y)"
   ]
  },
  {
   "cell_type": "code",
   "execution_count": 13,
   "metadata": {},
   "outputs": [],
   "source": [
    "pipe = Pipeline([('scaler', MinMaxScaler()), ('rf', RandomForestClassifier(random_state=24))])"
   ]
  },
  {
   "cell_type": "code",
   "execution_count": 14,
   "metadata": {},
   "outputs": [],
   "source": [
    "params = {\n",
    "    'rf__n_estimators': [10, 30, 50],\n",
    "    'rf__max_features': ['auto','log2', 0.25, 0.5]\n",
    "}\n",
    "\n",
    "gs = GridSearchCV(pipe, params, scoring='accuracy')"
   ]
  },
  {
   "cell_type": "code",
   "execution_count": 15,
   "metadata": {},
   "outputs": [
    {
     "data": {
      "text/plain": [
       "GridSearchCV(cv=None, error_score='raise',\n",
       "       estimator=Pipeline(memory=None,\n",
       "     steps=[('scaler', MinMaxScaler(copy=True, feature_range=(0, 1))), ('rf', RandomForestClassifier(bootstrap=True, class_weight=None, criterion='gini',\n",
       "            max_depth=None, max_features='auto', max_leaf_nodes=None,\n",
       "            min_impurity_decrease=0.0, min_i...timators=10, n_jobs=1,\n",
       "            oob_score=False, random_state=24, verbose=0, warm_start=False))]),\n",
       "       fit_params=None, iid=True, n_jobs=1,\n",
       "       param_grid={'rf__n_estimators': [10, 30, 50], 'rf__max_features': ['auto', 'log2', 0.25, 0.5]},\n",
       "       pre_dispatch='2*n_jobs', refit=True, return_train_score='warn',\n",
       "       scoring='accuracy', verbose=0)"
      ]
     },
     "execution_count": 15,
     "metadata": {},
     "output_type": "execute_result"
    }
   ],
   "source": [
    "gs.fit(X_train, y_train)"
   ]
  },
  {
   "cell_type": "code",
   "execution_count": 16,
   "metadata": {},
   "outputs": [
    {
     "data": {
      "text/plain": [
       "0.99856"
      ]
     },
     "execution_count": 16,
     "metadata": {},
     "output_type": "execute_result"
    }
   ],
   "source": [
    "gs.score(X_train, y_train)"
   ]
  },
  {
   "cell_type": "code",
   "execution_count": 17,
   "metadata": {},
   "outputs": [
    {
     "data": {
      "text/plain": [
       "0.92544000000000004"
      ]
     },
     "execution_count": 17,
     "metadata": {},
     "output_type": "execute_result"
    }
   ],
   "source": [
    "gs.score(X_test, y_test)"
   ]
  },
  {
   "cell_type": "code",
   "execution_count": 18,
   "metadata": {},
   "outputs": [
    {
     "data": {
      "text/plain": [
       "{'rf__max_features': 0.25, 'rf__n_estimators': 50}"
      ]
     },
     "execution_count": 18,
     "metadata": {},
     "output_type": "execute_result"
    }
   ],
   "source": [
    "gs.best_params_"
   ]
  },
  {
   "cell_type": "code",
   "execution_count": 19,
   "metadata": {},
   "outputs": [],
   "source": [
    "feat_imps = list(gs.best_estimator_.steps[1][1].feature_importances_)"
   ]
  },
  {
   "cell_type": "code",
   "execution_count": 20,
   "metadata": {},
   "outputs": [],
   "source": [
    "features = pd.DataFrame(list(zip(X.columns, feat_imps)), columns=['Feature','Importance'])"
   ]
  },
  {
   "cell_type": "code",
   "execution_count": 21,
   "metadata": {},
   "outputs": [],
   "source": [
    "top_feats = features.sort_values('Importance', ascending=False).head(10)\n",
    "top_feats.set_index('Feature', inplace=True)"
   ]
  },
  {
   "cell_type": "code",
   "execution_count": 22,
   "metadata": {},
   "outputs": [
    {
     "data": {
      "image/png": "[encoded data removed]",
      "text/plain": [
       "<Figure size 432x288 with 1 Axes>"
      ]
     },
     "metadata": {},
     "output_type": "display_data"
    }
   ],
   "source": [
    "top_feats['Importance'].plot(kind='barh', color='navy')\n",
    "plt.ylabel('Feature')\n",
    "plt.xlabel('Importance');\n",
    "# This isn't surprising at all\n",
    "# But what are amoxicillin and gabapentin doing there?"
   ]
  },
  {
   "cell_type": "code",
   "execution_count": 23,
   "metadata": {},
   "outputs": [],
   "source": [
    "# look at it without hydrocodone acetaminophen?\n",
    "# unsupervised learning, clustering to group providers into categories, use as feature"
   ]
  },
  {
   "cell_type": "markdown",
   "metadata": {},
   "source": [
    "**K Means Labels**"
   ]
  },
  {
   "cell_type": "code",
   "execution_count": 24,
   "metadata": {},
   "outputs": [],
   "source": [
    "def km_value_counts(max_clusters, data):\n",
    "    for n in range(2, max_clusters):\n",
    "        print (n, \"Clusters \\n\")\n",
    "        km=KMeans(n_clusters=n)\n",
    "        model=km.fit(data)\n",
    "        print(pd.Series(model.labels_).value_counts(), \"\\n\")"
   ]
  },
  {
   "cell_type": "code",
   "execution_count": 25,
   "metadata": {},
   "outputs": [
    {
     "name": "stdout",
     "output_type": "stream",
     "text": [
      "2 Clusters \n",
      "\n",
      "0    23008\n",
      "1     1992\n",
      "dtype: int64 \n",
      "\n",
      "3 Clusters \n",
      "\n",
      "1    21840\n",
      "0     2656\n",
      "2      504\n",
      "dtype: int64 \n",
      "\n",
      "4 Clusters \n",
      "\n",
      "1    20954\n",
      "3     2839\n",
      "2     1049\n",
      "0      158\n",
      "dtype: int64 \n",
      "\n",
      "5 Clusters \n",
      "\n",
      "1    20735\n",
      "0     2806\n",
      "2     1099\n",
      "4      183\n",
      "3      177\n",
      "dtype: int64 \n",
      "\n"
     ]
    }
   ],
   "source": [
    "km_value_counts(6, X) # unbalanced"
   ]
  },
  {
   "cell_type": "markdown",
   "metadata": {},
   "source": [
    "**DB Scan Labels**"
   ]
  },
  {
   "cell_type": "code",
   "execution_count": 26,
   "metadata": {},
   "outputs": [],
   "source": [
    "db=DBSCAN()"
   ]
  },
  {
   "cell_type": "code",
   "execution_count": 27,
   "metadata": {},
   "outputs": [],
   "source": [
    "dbmodel = db.fit(X)"
   ]
  },
  {
   "cell_type": "code",
   "execution_count": 28,
   "metadata": {},
   "outputs": [
    {
     "data": {
      "text/plain": [
       "-1     24869\n",
       " 3        11\n",
       " 0        10\n",
       " 5         8\n",
       " 6         8\n",
       " 11        7\n",
       " 10        7\n",
       " 4         7\n",
       " 9         6\n",
       " 7         6\n",
       " 12        6\n",
       " 13        6\n",
       " 19        6\n",
       " 14        6\n",
       " 17        6\n",
       " 15        6\n",
       " 8         5\n",
       " 18        5\n",
       " 2         5\n",
       " 1         5\n",
       " 16        5\n",
       "dtype: int64"
      ]
     },
     "execution_count": 28,
     "metadata": {},
     "output_type": "execute_result"
    }
   ],
   "source": [
    "pd.Series(dbmodel.labels_).value_counts() # also wicked unbalanced"
   ]
  },
  {
   "cell_type": "markdown",
   "metadata": {},
   "source": [
    "It doesn't seem like unsupervised learning will help create a valuable feature for this model, although DBSCAN is helpful for identifying outliers. "
   ]
  },
  {
   "cell_type": "code",
   "execution_count": 29,
   "metadata": {},
   "outputs": [],
   "source": [
    "X['DB_Labels'] = dbmodel.labels_"
   ]
  },
  {
   "cell_type": "code",
   "execution_count": 30,
   "metadata": {},
   "outputs": [],
   "source": [
    "def explore_outliers(labels):\n",
    "    for n in labels:\n",
    "        df=X[X['DB_Labels']==n].copy()\n",
    "        sums=pd.DataFrame(df.drop([\"DB_Labels\", \"Gender\"], axis=1).sum(axis=0), columns=['Sums'])\n",
    "        print(\"Label\",n)\n",
    "        print(sums.query(\"Sums > 0\"), \"\\n\")"
   ]
  },
  {
   "cell_type": "code",
   "execution_count": 31,
   "metadata": {
    "scrolled": true
   },
   "outputs": [
    {
     "name": "stdout",
     "output_type": "stream",
     "text": [
      "Label 0\n",
      "             Sums\n",
      "AMOXICILLIN   120\n",
      "Dentist        10\n",
      "CA             10 \n",
      "\n",
      "Label 1\n",
      "             Sums\n",
      "AMOXICILLIN    70\n",
      "Dentist         5\n",
      "IL              5 \n",
      "\n",
      "Label 2\n",
      "             Sums\n",
      "AMOXICILLIN    85\n",
      "Dentist         5\n",
      "PA              5 \n",
      "\n",
      "Label 3\n",
      "             Sums\n",
      "AMOXICILLIN   143\n",
      "Dentist        11\n",
      "CA             11 \n",
      "\n",
      "Label 4\n",
      "             Sums\n",
      "AMOXICILLIN    98\n",
      "Dentist         7\n",
      "NY              7 \n",
      "\n",
      "Label 4\n",
      "             Sums\n",
      "AMOXICILLIN    98\n",
      "Dentist         7\n",
      "NY              7 \n",
      "\n",
      "Label 5\n",
      "             Sums\n",
      "AMOXICILLIN   128\n",
      "Dentist         8\n",
      "CA              8 \n",
      "\n",
      "Label 6\n",
      "             Sums\n",
      "AMOXICILLIN    88\n",
      "Dentist         8\n",
      "CA              8 \n",
      "\n",
      "Label 3\n",
      "             Sums\n",
      "AMOXICILLIN   143\n",
      "Dentist        11\n",
      "CA             11 \n",
      "\n",
      "Label 4\n",
      "             Sums\n",
      "AMOXICILLIN    98\n",
      "Dentist         7\n",
      "NY              7 \n",
      "\n",
      "Label 7\n",
      "             Sums\n",
      "AMOXICILLIN   102\n",
      "Dentist         6\n",
      "NY              6 \n",
      "\n",
      "Label 8\n",
      "             Sums\n",
      "AMOXICILLIN    65\n",
      "Dentist         5\n",
      "NY              5 \n",
      "\n",
      "Label 7\n",
      "             Sums\n",
      "AMOXICILLIN   102\n",
      "Dentist         6\n",
      "NY              6 \n",
      "\n",
      "Label 1\n",
      "             Sums\n",
      "AMOXICILLIN    70\n",
      "Dentist         5\n",
      "IL              5 \n",
      "\n",
      "Label 0\n",
      "             Sums\n",
      "AMOXICILLIN   120\n",
      "Dentist        10\n",
      "CA             10 \n",
      "\n",
      "Label 9\n",
      "             Sums\n",
      "AMOXICILLIN    84\n",
      "Dentist         6\n",
      "CA              6 \n",
      "\n",
      "Label 10\n",
      "             Sums\n",
      "AMOXICILLIN    84\n",
      "Dentist         7\n",
      "IL              7 \n",
      "\n",
      "Label 11\n",
      "             Sums\n",
      "AMOXICILLIN    84\n",
      "Dentist         7\n",
      "CA              7 \n",
      "\n",
      "Label 12\n",
      "             Sums\n",
      "AMOXICILLIN    90\n",
      "Dentist         6\n",
      "CA              6 \n",
      "\n",
      "Label 9\n",
      "             Sums\n",
      "AMOXICILLIN    84\n",
      "Dentist         6\n",
      "CA              6 \n",
      "\n",
      "Label 5\n",
      "             Sums\n",
      "AMOXICILLIN   128\n",
      "Dentist         8\n",
      "CA              8 \n",
      "\n",
      "Label 13\n",
      "             Sums\n",
      "AMOXICILLIN    66\n",
      "Dentist         6\n",
      "TX              6 \n",
      "\n",
      "Label 14\n",
      "             Sums\n",
      "AMOXICILLIN   132\n",
      "Dentist         6\n",
      "CA              6 \n",
      "\n",
      "Label 12\n",
      "             Sums\n",
      "AMOXICILLIN    90\n",
      "Dentist         6\n",
      "CA              6 \n",
      "\n",
      "Label 10\n",
      "             Sums\n",
      "AMOXICILLIN    84\n",
      "Dentist         7\n",
      "IL              7 \n",
      "\n",
      "Label 15\n",
      "             Sums\n",
      "AMOXICILLIN    66\n",
      "Dentist         6\n",
      "NY              6 \n",
      "\n",
      "Label 14\n",
      "             Sums\n",
      "AMOXICILLIN   132\n",
      "Dentist         6\n",
      "CA              6 \n",
      "\n",
      "Label 16\n",
      "             Sums\n",
      "AMOXICILLIN    55\n",
      "Dentist         5\n",
      "OH              5 \n",
      "\n",
      "Label 17\n",
      "             Sums\n",
      "AMOXICILLIN    90\n",
      "Dentist         6\n",
      "CA              6 \n",
      "\n",
      "Label 12\n",
      "             Sums\n",
      "AMOXICILLIN    90\n",
      "Dentist         6\n",
      "CA              6 \n",
      "\n",
      "Label 12\n",
      "             Sums\n",
      "AMOXICILLIN    90\n",
      "Dentist         6\n",
      "CA              6 \n",
      "\n",
      "Label 6\n",
      "             Sums\n",
      "AMOXICILLIN    88\n",
      "Dentist         8\n",
      "CA              8 \n",
      "\n",
      "Label 2\n",
      "             Sums\n",
      "AMOXICILLIN    85\n",
      "Dentist         5\n",
      "PA              5 \n",
      "\n",
      "Label 18\n",
      "             Sums\n",
      "AMOXICILLIN    70\n",
      "Dentist         5\n",
      "MD              5 \n",
      "\n",
      "Label 9\n",
      "             Sums\n",
      "AMOXICILLIN    84\n",
      "Dentist         6\n",
      "CA              6 \n",
      "\n",
      "Label 8\n",
      "             Sums\n",
      "AMOXICILLIN    65\n",
      "Dentist         5\n",
      "NY              5 \n",
      "\n",
      "Label 5\n",
      "             Sums\n",
      "AMOXICILLIN   128\n",
      "Dentist         8\n",
      "CA              8 \n",
      "\n",
      "Label 2\n",
      "             Sums\n",
      "AMOXICILLIN    85\n",
      "Dentist         5\n",
      "PA              5 \n",
      "\n",
      "Label 4\n",
      "             Sums\n",
      "AMOXICILLIN    98\n",
      "Dentist         7\n",
      "NY              7 \n",
      "\n",
      "Label 10\n",
      "             Sums\n",
      "AMOXICILLIN    84\n",
      "Dentist         7\n",
      "IL              7 \n",
      "\n",
      "Label 5\n",
      "             Sums\n",
      "AMOXICILLIN   128\n",
      "Dentist         8\n",
      "CA              8 \n",
      "\n",
      "Label 11\n",
      "             Sums\n",
      "AMOXICILLIN    84\n",
      "Dentist         7\n",
      "CA              7 \n",
      "\n",
      "Label 13\n",
      "             Sums\n",
      "AMOXICILLIN    66\n",
      "Dentist         6\n",
      "TX              6 \n",
      "\n",
      "Label 11\n",
      "             Sums\n",
      "AMOXICILLIN    84\n",
      "Dentist         7\n",
      "CA              7 \n",
      "\n",
      "Label 14\n",
      "             Sums\n",
      "AMOXICILLIN   132\n",
      "Dentist         6\n",
      "CA              6 \n",
      "\n",
      "Label 17\n",
      "             Sums\n",
      "AMOXICILLIN    90\n",
      "Dentist         6\n",
      "CA              6 \n",
      "\n",
      "Label 3\n",
      "             Sums\n",
      "AMOXICILLIN   143\n",
      "Dentist        11\n",
      "CA             11 \n",
      "\n",
      "Label 1\n",
      "             Sums\n",
      "AMOXICILLIN    70\n",
      "Dentist         5\n",
      "IL              5 \n",
      "\n",
      "Label 19\n",
      "             Sums\n",
      "AMOXICILLIN   108\n",
      "Dentist         6\n",
      "CA              6 \n",
      "\n",
      "Label 2\n",
      "             Sums\n",
      "AMOXICILLIN    85\n",
      "Dentist         5\n",
      "PA              5 \n",
      "\n",
      "Label 17\n",
      "             Sums\n",
      "AMOXICILLIN    90\n",
      "Dentist         6\n",
      "CA              6 \n",
      "\n",
      "Label 11\n",
      "             Sums\n",
      "AMOXICILLIN    84\n",
      "Dentist         7\n",
      "CA              7 \n",
      "\n",
      "Label 1\n",
      "             Sums\n",
      "AMOXICILLIN    70\n",
      "Dentist         5\n",
      "IL              5 \n",
      "\n",
      "Label 8\n",
      "             Sums\n",
      "AMOXICILLIN    65\n",
      "Dentist         5\n",
      "NY              5 \n",
      "\n",
      "Label 9\n",
      "             Sums\n",
      "AMOXICILLIN    84\n",
      "Dentist         6\n",
      "CA              6 \n",
      "\n",
      "Label 5\n",
      "             Sums\n",
      "AMOXICILLIN   128\n",
      "Dentist         8\n",
      "CA              8 \n",
      "\n",
      "Label 7\n",
      "             Sums\n",
      "AMOXICILLIN   102\n",
      "Dentist         6\n",
      "NY              6 \n",
      "\n",
      "Label 0\n",
      "             Sums\n",
      "AMOXICILLIN   120\n",
      "Dentist        10\n",
      "CA             10 \n",
      "\n",
      "Label 16\n",
      "             Sums\n",
      "AMOXICILLIN    55\n",
      "Dentist         5\n",
      "OH              5 \n",
      "\n",
      "Label 12\n",
      "             Sums\n",
      "AMOXICILLIN    90\n",
      "Dentist         6\n",
      "CA              6 \n",
      "\n",
      "Label 6\n",
      "             Sums\n",
      "AMOXICILLIN    88\n",
      "Dentist         8\n",
      "CA              8 \n",
      "\n",
      "Label 0\n",
      "             Sums\n",
      "AMOXICILLIN   120\n",
      "Dentist        10\n",
      "CA             10 \n",
      "\n",
      "Label 10\n",
      "             Sums\n",
      "AMOXICILLIN    84\n",
      "Dentist         7\n",
      "IL              7 \n",
      "\n",
      "Label 14\n",
      "             Sums\n",
      "AMOXICILLIN   132\n",
      "Dentist         6\n",
      "CA              6 \n",
      "\n",
      "Label 13\n",
      "             Sums\n",
      "AMOXICILLIN    66\n",
      "Dentist         6\n",
      "TX              6 \n",
      "\n",
      "Label 11\n",
      "             Sums\n",
      "AMOXICILLIN    84\n",
      "Dentist         7\n",
      "CA              7 \n",
      "\n",
      "Label 16\n",
      "             Sums\n",
      "AMOXICILLIN    55\n",
      "Dentist         5\n",
      "OH              5 \n",
      "\n",
      "Label 13\n",
      "             Sums\n",
      "AMOXICILLIN    66\n",
      "Dentist         6\n",
      "TX              6 \n",
      "\n",
      "Label 18\n",
      "             Sums\n",
      "AMOXICILLIN    70\n",
      "Dentist         5\n",
      "MD              5 \n",
      "\n",
      "Label 5\n",
      "             Sums\n",
      "AMOXICILLIN   128\n",
      "Dentist         8\n",
      "CA              8 \n",
      "\n",
      "Label 8\n",
      "             Sums\n",
      "AMOXICILLIN    65\n",
      "Dentist         5\n",
      "NY              5 \n",
      "\n",
      "Label 19\n",
      "             Sums\n",
      "AMOXICILLIN   108\n",
      "Dentist         6\n",
      "CA              6 \n",
      "\n",
      "Label 14\n",
      "             Sums\n",
      "AMOXICILLIN   132\n",
      "Dentist         6\n",
      "CA              6 \n",
      "\n",
      "Label 9\n",
      "             Sums\n",
      "AMOXICILLIN    84\n",
      "Dentist         6\n",
      "CA              6 \n",
      "\n",
      "Label 3\n",
      "             Sums\n",
      "AMOXICILLIN   143\n",
      "Dentist        11\n",
      "CA             11 \n",
      "\n",
      "Label 10\n",
      "             Sums\n",
      "AMOXICILLIN    84\n",
      "Dentist         7\n",
      "IL              7 \n",
      "\n",
      "Label 0\n",
      "             Sums\n",
      "AMOXICILLIN   120\n",
      "Dentist        10\n",
      "CA             10 \n",
      "\n",
      "Label 15\n",
      "             Sums\n",
      "AMOXICILLIN    66\n",
      "Dentist         6\n",
      "NY              6 \n",
      "\n",
      "Label 15\n",
      "             Sums\n",
      "AMOXICILLIN    66\n",
      "Dentist         6\n",
      "NY              6 \n",
      "\n",
      "Label 14\n",
      "             Sums\n",
      "AMOXICILLIN   132\n",
      "Dentist         6\n",
      "CA              6 \n",
      "\n",
      "Label 17\n",
      "             Sums\n",
      "AMOXICILLIN    90\n",
      "Dentist         6\n",
      "CA              6 \n",
      "\n",
      "Label 10\n",
      "             Sums\n",
      "AMOXICILLIN    84\n",
      "Dentist         7\n",
      "IL              7 \n",
      "\n",
      "Label 11\n",
      "             Sums\n",
      "AMOXICILLIN    84\n",
      "Dentist         7\n",
      "CA              7 \n",
      "\n",
      "Label 10\n",
      "             Sums\n",
      "AMOXICILLIN    84\n",
      "Dentist         7\n",
      "IL              7 \n",
      "\n",
      "Label 13\n",
      "             Sums\n",
      "AMOXICILLIN    66\n",
      "Dentist         6\n",
      "TX              6 \n",
      "\n",
      "Label 6\n",
      "             Sums\n",
      "AMOXICILLIN    88\n",
      "Dentist         8\n",
      "CA              8 \n",
      "\n",
      "Label 5\n",
      "             Sums\n",
      "AMOXICILLIN   128\n",
      "Dentist         8\n",
      "CA              8 \n",
      "\n",
      "Label 19\n",
      "             Sums\n",
      "AMOXICILLIN   108\n",
      "Dentist         6\n",
      "CA              6 \n",
      "\n",
      "Label 3\n",
      "             Sums\n",
      "AMOXICILLIN   143\n",
      "Dentist        11\n",
      "CA             11 \n",
      "\n",
      "Label 0\n",
      "             Sums\n",
      "AMOXICILLIN   120\n",
      "Dentist        10\n",
      "CA             10 \n",
      "\n",
      "Label 11\n",
      "             Sums\n",
      "AMOXICILLIN    84\n",
      "Dentist         7\n",
      "CA              7 \n",
      "\n",
      "Label 15\n",
      "             Sums\n",
      "AMOXICILLIN    66\n",
      "Dentist         6\n",
      "NY              6 \n",
      "\n",
      "Label 8\n",
      "             Sums\n",
      "AMOXICILLIN    65\n",
      "Dentist         5\n",
      "NY              5 \n",
      "\n",
      "Label 16\n",
      "             Sums\n",
      "AMOXICILLIN    55\n",
      "Dentist         5\n",
      "OH              5 \n",
      "\n",
      "Label 3\n",
      "             Sums\n",
      "AMOXICILLIN   143\n",
      "Dentist        11\n",
      "CA             11 \n",
      "\n",
      "Label 3\n",
      "             Sums\n",
      "AMOXICILLIN   143\n",
      "Dentist        11\n",
      "CA             11 \n",
      "\n",
      "Label 0\n",
      "             Sums\n",
      "AMOXICILLIN   120\n",
      "Dentist        10\n",
      "CA             10 \n",
      "\n",
      "Label 17\n",
      "             Sums\n",
      "AMOXICILLIN    90\n",
      "Dentist         6\n",
      "CA              6 \n",
      "\n",
      "Label 19\n",
      "             Sums\n",
      "AMOXICILLIN   108\n",
      "Dentist         6\n",
      "CA              6 \n",
      "\n",
      "Label 0\n",
      "             Sums\n",
      "AMOXICILLIN   120\n",
      "Dentist        10\n",
      "CA             10 \n",
      "\n",
      "Label 17\n",
      "             Sums\n",
      "AMOXICILLIN    90\n",
      "Dentist         6\n",
      "CA              6 \n",
      "\n",
      "Label 4\n",
      "             Sums\n",
      "AMOXICILLIN    98\n",
      "Dentist         7\n",
      "NY              7 \n",
      "\n",
      "Label 0\n",
      "             Sums\n",
      "AMOXICILLIN   120\n",
      "Dentist        10\n",
      "CA             10 \n",
      "\n",
      "Label 16\n",
      "             Sums\n",
      "AMOXICILLIN    55\n",
      "Dentist         5\n",
      "OH              5 \n",
      "\n",
      "Label 3\n",
      "             Sums\n",
      "AMOXICILLIN   143\n",
      "Dentist        11\n",
      "CA             11 \n",
      "\n",
      "Label 9\n",
      "             Sums\n",
      "AMOXICILLIN    84\n",
      "Dentist         6\n",
      "CA              6 \n",
      "\n",
      "Label 3\n",
      "             Sums\n",
      "AMOXICILLIN   143\n",
      "Dentist        11\n",
      "CA             11 \n",
      "\n",
      "Label 18\n",
      "             Sums\n",
      "AMOXICILLIN    70\n",
      "Dentist         5\n",
      "MD              5 \n",
      "\n"
     ]
    },
    {
     "name": "stdout",
     "output_type": "stream",
     "text": [
      "Label 7\n",
      "             Sums\n",
      "AMOXICILLIN   102\n",
      "Dentist         6\n",
      "NY              6 \n",
      "\n",
      "Label 1\n",
      "             Sums\n",
      "AMOXICILLIN    70\n",
      "Dentist         5\n",
      "IL              5 \n",
      "\n",
      "Label 18\n",
      "             Sums\n",
      "AMOXICILLIN    70\n",
      "Dentist         5\n",
      "MD              5 \n",
      "\n",
      "Label 12\n",
      "             Sums\n",
      "AMOXICILLIN    90\n",
      "Dentist         6\n",
      "CA              6 \n",
      "\n",
      "Label 7\n",
      "             Sums\n",
      "AMOXICILLIN   102\n",
      "Dentist         6\n",
      "NY              6 \n",
      "\n",
      "Label 2\n",
      "             Sums\n",
      "AMOXICILLIN    85\n",
      "Dentist         5\n",
      "PA              5 \n",
      "\n",
      "Label 6\n",
      "             Sums\n",
      "AMOXICILLIN    88\n",
      "Dentist         8\n",
      "CA              8 \n",
      "\n",
      "Label 13\n",
      "             Sums\n",
      "AMOXICILLIN    66\n",
      "Dentist         6\n",
      "TX              6 \n",
      "\n",
      "Label 3\n",
      "             Sums\n",
      "AMOXICILLIN   143\n",
      "Dentist        11\n",
      "CA             11 \n",
      "\n",
      "Label 18\n",
      "             Sums\n",
      "AMOXICILLIN    70\n",
      "Dentist         5\n",
      "MD              5 \n",
      "\n",
      "Label 4\n",
      "             Sums\n",
      "AMOXICILLIN    98\n",
      "Dentist         7\n",
      "NY              7 \n",
      "\n",
      "Label 15\n",
      "             Sums\n",
      "AMOXICILLIN    66\n",
      "Dentist         6\n",
      "NY              6 \n",
      "\n",
      "Label 7\n",
      "             Sums\n",
      "AMOXICILLIN   102\n",
      "Dentist         6\n",
      "NY              6 \n",
      "\n",
      "Label 6\n",
      "             Sums\n",
      "AMOXICILLIN    88\n",
      "Dentist         8\n",
      "CA              8 \n",
      "\n",
      "Label 15\n",
      "             Sums\n",
      "AMOXICILLIN    66\n",
      "Dentist         6\n",
      "NY              6 \n",
      "\n",
      "Label 19\n",
      "             Sums\n",
      "AMOXICILLIN   108\n",
      "Dentist         6\n",
      "CA              6 \n",
      "\n",
      "Label 3\n",
      "             Sums\n",
      "AMOXICILLIN   143\n",
      "Dentist        11\n",
      "CA             11 \n",
      "\n",
      "Label 0\n",
      "             Sums\n",
      "AMOXICILLIN   120\n",
      "Dentist        10\n",
      "CA             10 \n",
      "\n",
      "Label 6\n",
      "             Sums\n",
      "AMOXICILLIN    88\n",
      "Dentist         8\n",
      "CA              8 \n",
      "\n",
      "Label 5\n",
      "             Sums\n",
      "AMOXICILLIN   128\n",
      "Dentist         8\n",
      "CA              8 \n",
      "\n",
      "Label 19\n",
      "             Sums\n",
      "AMOXICILLIN   108\n",
      "Dentist         6\n",
      "CA              6 \n",
      "\n",
      "Label 6\n",
      "             Sums\n",
      "AMOXICILLIN    88\n",
      "Dentist         8\n",
      "CA              8 \n",
      "\n",
      "Label 4\n",
      "             Sums\n",
      "AMOXICILLIN    98\n",
      "Dentist         7\n",
      "NY              7 \n",
      "\n"
     ]
    }
   ],
   "source": [
    "explore_outliers([lab for lab in dbmodel.labels_ if lab != -1])"
   ]
  },
  {
   "cell_type": "markdown",
   "metadata": {},
   "source": [
    "All the outliers are dentists that only prescribe amoxicillin."
   ]
  },
  {
   "cell_type": "markdown",
   "metadata": {},
   "source": [
    "**Modeling after removing DBSCAN outliers**"
   ]
  },
  {
   "cell_type": "code",
   "execution_count": 32,
   "metadata": {},
   "outputs": [],
   "source": [
    "Xdb = X[X[\"DB_Labels\"]==-1].copy()"
   ]
  },
  {
   "cell_type": "code",
   "execution_count": 33,
   "metadata": {},
   "outputs": [],
   "source": [
    "y=y.to_frame()"
   ]
  },
  {
   "cell_type": "code",
   "execution_count": 34,
   "metadata": {},
   "outputs": [],
   "source": [
    "y[\"DB_Labels\"] = db.labels_"
   ]
  },
  {
   "cell_type": "code",
   "execution_count": 35,
   "metadata": {},
   "outputs": [],
   "source": [
    "ydb = y[y[\"DB_Labels\"]==-1].copy()"
   ]
  },
  {
   "cell_type": "code",
   "execution_count": 36,
   "metadata": {},
   "outputs": [],
   "source": [
    "Xdb.drop('DB_Labels', axis=1, inplace=True)\n",
    "ydb.drop('DB_Labels', axis=1, inplace=True)"
   ]
  },
  {
   "cell_type": "code",
   "execution_count": 37,
   "metadata": {},
   "outputs": [
    {
     "data": {
      "text/plain": [
       "True"
      ]
     },
     "execution_count": 37,
     "metadata": {},
     "output_type": "execute_result"
    }
   ],
   "source": [
    "Xdb.shape[0]==ydb.shape[0]"
   ]
  },
  {
   "cell_type": "code",
   "execution_count": 38,
   "metadata": {},
   "outputs": [],
   "source": [
    "# Xdb.reset_index(inplace=True)\n",
    "# ydb.reset_index(inplace=True)"
   ]
  },
  {
   "cell_type": "code",
   "execution_count": 39,
   "metadata": {},
   "outputs": [],
   "source": [
    "ydb=ydb['Opioid.Prescriber']"
   ]
  },
  {
   "cell_type": "code",
   "execution_count": 40,
   "metadata": {},
   "outputs": [],
   "source": [
    "X_train, X_test, y_train, y_test = train_test_split(Xdb, ydb, random_state=24, stratify=ydb)"
   ]
  },
  {
   "cell_type": "code",
   "execution_count": 41,
   "metadata": {},
   "outputs": [],
   "source": [
    "pipe = Pipeline([('scaler', MinMaxScaler()),\n",
    "                 ('rf', RandomForestClassifier(random_state=24))\n",
    "                 ])"
   ]
  },
  {
   "cell_type": "code",
   "execution_count": 42,
   "metadata": {},
   "outputs": [],
   "source": [
    "params = {\n",
    "    'rf__n_estimators': [10, 30, 50],\n",
    "    'rf__max_features': ['auto','log2', 0.25, 0.5]\n",
    "}\n",
    "\n",
    "gs = GridSearchCV(pipe, params, scoring='accuracy')"
   ]
  },
  {
   "cell_type": "code",
   "execution_count": 43,
   "metadata": {},
   "outputs": [
    {
     "data": {
      "text/plain": [
       "GridSearchCV(cv=None, error_score='raise',\n",
       "       estimator=Pipeline(memory=None,\n",
       "     steps=[('scaler', MinMaxScaler(copy=True, feature_range=(0, 1))), ('rf', RandomForestClassifier(bootstrap=True, class_weight=None, criterion='gini',\n",
       "            max_depth=None, max_features='auto', max_leaf_nodes=None,\n",
       "            min_impurity_decrease=0.0, min_i...timators=10, n_jobs=1,\n",
       "            oob_score=False, random_state=24, verbose=0, warm_start=False))]),\n",
       "       fit_params=None, iid=True, n_jobs=1,\n",
       "       param_grid={'rf__n_estimators': [10, 30, 50], 'rf__max_features': ['auto', 'log2', 0.25, 0.5]},\n",
       "       pre_dispatch='2*n_jobs', refit=True, return_train_score='warn',\n",
       "       scoring='accuracy', verbose=0)"
      ]
     },
     "execution_count": 43,
     "metadata": {},
     "output_type": "execute_result"
    }
   ],
   "source": [
    "gs.fit(X_train, y_train)"
   ]
  },
  {
   "cell_type": "code",
   "execution_count": 44,
   "metadata": {},
   "outputs": [
    {
     "data": {
      "text/plain": [
       "0.99823065787357246"
      ]
     },
     "execution_count": 44,
     "metadata": {},
     "output_type": "execute_result"
    }
   ],
   "source": [
    "gs.score(X_train, y_train)"
   ]
  },
  {
   "cell_type": "code",
   "execution_count": 45,
   "metadata": {},
   "outputs": [
    {
     "data": {
      "text/plain": [
       "0.92586040527500801"
      ]
     },
     "execution_count": 45,
     "metadata": {},
     "output_type": "execute_result"
    }
   ],
   "source": [
    "gs.score(X_test, y_test)"
   ]
  },
  {
   "cell_type": "code",
   "execution_count": 46,
   "metadata": {},
   "outputs": [
    {
     "data": {
      "text/plain": [
       "{'rf__max_features': 0.25, 'rf__n_estimators': 50}"
      ]
     },
     "execution_count": 46,
     "metadata": {},
     "output_type": "execute_result"
    }
   ],
   "source": [
    "gs.best_params_"
   ]
  },
  {
   "cell_type": "code",
   "execution_count": 47,
   "metadata": {},
   "outputs": [],
   "source": [
    "feat_imps = list(gs.best_estimator_.steps[1][1].feature_importances_)"
   ]
  },
  {
   "cell_type": "code",
   "execution_count": 48,
   "metadata": {},
   "outputs": [],
   "source": [
    "features = pd.DataFrame(list(zip(X.columns, feat_imps)), columns=['Feature','Importance'])"
   ]
  },
  {
   "cell_type": "code",
   "execution_count": 49,
   "metadata": {},
   "outputs": [],
   "source": [
    "top_feats = features.sort_values('Importance', ascending=False).head(10)\n",
    "top_feats.set_index('Feature', inplace=True)"
   ]
  },
  {
   "cell_type": "code",
   "execution_count": 50,
   "metadata": {},
   "outputs": [
    {
     "data": {
      "image/png": "[encoded data removed]",
      "text/plain": [
       "<Figure size 432x288 with 1 Axes>"
      ]
     },
     "metadata": {},
     "output_type": "display_data"
    }
   ],
   "source": [
    "top_feats['Importance'].plot(kind='barh', color='navy')\n",
    "plt.ylabel('Feature')\n",
    "plt.xlabel('Importance');\n",
    "# Same as before, makes sense"
   ]
  },
  {
   "cell_type": "code",
   "execution_count": 56,
   "metadata": {},
   "outputs": [
    {
     "data": {
      "image/png": "[encoded data removed]",
      "text/plain": [
       "<Figure size 864x720 with 1 Axes>"
      ]
     },
     "metadata": {},
     "output_type": "display_data"
    }
   ],
   "source": [
    "y_hat = gs.predict_proba(X_test)[:,1]\n",
    "\n",
    "false_pos, true_pos, _ = roc_curve(y_test, y_hat)\n",
    "ROC_AUC = auc(false_pos, true_pos)\n",
    "prec, rec, _ = precision_recall_curve(y_test, y_hat)\n",
    "PR_AUC = auc(rec, prec)\n",
    "\n",
    "plt.figure(figsize=[12,10])\n",
    "plt.plot(false_pos, true_pos, label='ROC curve (area = %0.2f)' % ROC_AUC, linewidth=4)\n",
    "plt.plot(rec, prec, label='PR curve (area = %0.2f)' % PR_AUC, linewidth=4)\n",
    "plt.plot([0, 1], [0, 1], 'k--', linewidth=2)\n",
    "plt.xlim([0.0, 1.0])\n",
    "plt.ylim([0.0, 1.0])\n",
    "plt.xlabel('False Positive Rate', fontsize=18)\n",
    "plt.ylabel('True Positive Rate', fontsize=18)\n",
    "plt.title('ROC AUC and Precision Recall Curve', fontsize=16)\n",
    "plt.legend(loc=\"lower right\")\n",
    "plt.show()"
   ]
  },
  {
   "cell_type": "code",
   "execution_count": null,
   "metadata": {},
   "outputs": [],
   "source": []
  }
 ],
 "metadata": {
  "kernelspec": {
   "display_name": "Python [conda env:dsi]",
   "language": "python",
   "name": "conda-env-dsi-py"
  },
  "language_info": {
   "codemirror_mode": {
    "name": "ipython",
    "version": 3
   },
   "file_extension": ".py",
   "mimetype": "text/x-python",
   "name": "python",
   "nbconvert_exporter": "python",
   "pygments_lexer": "ipython3",
   "version": "3.6.5"
  }
 },
 "nbformat": 4,
 "nbformat_minor": 2
}
